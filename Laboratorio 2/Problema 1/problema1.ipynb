{
 "cells": [
  {
   "cell_type": "markdown",
   "id": "998bea80",
   "metadata": {},
   "source": [
    "# Problema 1"
   ]
  },
  {
   "cell_type": "markdown",
   "id": "dd029827",
   "metadata": {},
   "source": [
    "## Implementación en Pyomo"
   ]
  },
  {
   "cell_type": "code",
   "execution_count": 7,
   "id": "5deee805",
   "metadata": {},
   "outputs": [
    {
     "name": "stdout",
     "output_type": "stream",
     "text": [
      "Requirement already satisfied: pyomo in c:\\users\\diego\\appdata\\local\\packages\\pythonsoftwarefoundation.python.3.10_qbz5n2kfra8p0\\localcache\\local-packages\\python310\\site-packages (6.9.4)\n",
      "Requirement already satisfied: ply in c:\\users\\diego\\appdata\\local\\packages\\pythonsoftwarefoundation.python.3.10_qbz5n2kfra8p0\\localcache\\local-packages\\python310\\site-packages (from pyomo) (3.11)\n"
     ]
    },
    {
     "name": "stderr",
     "output_type": "stream",
     "text": [
      "\n",
      "[notice] A new release of pip is available: 23.0.1 -> 25.2\n",
      "[notice] To update, run: C:\\Users\\diego\\AppData\\Local\\Microsoft\\WindowsApps\\PythonSoftwareFoundation.Python.3.10_qbz5n2kfra8p0\\python.exe -m pip install --upgrade pip\n"
     ]
    },
    {
     "name": "stdout",
     "output_type": "stream",
     "text": [
      "Collecting glpk\n",
      "  Using cached glpk-0.4.8.tar.gz (160 kB)\n",
      "  Installing build dependencies: started\n",
      "  Installing build dependencies: finished with status 'done'\n",
      "  Getting requirements to build wheel: started\n",
      "  Getting requirements to build wheel: finished with status 'done'\n",
      "  Preparing metadata (pyproject.toml): started\n",
      "  Preparing metadata (pyproject.toml): finished with status 'done'\n",
      "Building wheels for collected packages: glpk\n",
      "  Building wheel for glpk (pyproject.toml): started\n",
      "  Building wheel for glpk (pyproject.toml): finished with status 'error'\n",
      "Failed to build glpk\n"
     ]
    },
    {
     "name": "stderr",
     "output_type": "stream",
     "text": [
      "  error: subprocess-exited-with-error\n",
      "  \n",
      "  × Building wheel for glpk (pyproject.toml) did not run successfully.\n",
      "  │ exit code: 1\n",
      "  ╰─> [20 lines of output]\n",
      "      C:\\Users\\diego\\AppData\\Local\\Temp\\pip-build-env-lde03nab\\overlay\\Lib\\site-packages\\setuptools_scm\\_integration\\version_inference.py:51: UserWarning: version of glpk already set\n",
      "        warnings.warn(self.message)\n",
      "      C:\\Users\\diego\\AppData\\Local\\Temp\\pip-build-env-lde03nab\\overlay\\Lib\\site-packages\\setuptools\\dist.py:759: SetuptoolsDeprecationWarning: License classifiers are deprecated.\n",
      "      !!\n",
      "      \n",
      "              ********************************************************************************\n",
      "              Please consider removing the following classifiers in favor of a SPDX license expression:\n",
      "      \n",
      "              License :: OSI Approved :: GNU General Public License (GPL)\n",
      "      \n",
      "              See https://packaging.python.org/en/latest/guides/writing-pyproject-toml/#license for details.\n",
      "              ********************************************************************************\n",
      "      \n",
      "      !!\n",
      "        self._finalize_license_expression()\n",
      "      running bdist_wheel\n",
      "      running build\n",
      "      running build_ext\n",
      "      building 'glpk' extension\n",
      "      error: Microsoft Visual C++ 14.0 or greater is required. Get it with \"Microsoft C++ Build Tools\": https://visualstudio.microsoft.com/visual-cpp-build-tools/\n",
      "      [end of output]\n",
      "  \n",
      "  note: This error originates from a subprocess, and is likely not a problem with pip.\n",
      "  ERROR: Failed building wheel for glpk\n",
      "ERROR: Could not build wheels for glpk, which is required to install pyproject.toml-based projects\n",
      "\n",
      "[notice] A new release of pip is available: 23.0.1 -> 25.2\n",
      "[notice] To update, run: C:\\Users\\diego\\AppData\\Local\\Microsoft\\WindowsApps\\PythonSoftwareFoundation.Python.3.10_qbz5n2kfra8p0\\python.exe -m pip install --upgrade pip\n"
     ]
    }
   ],
   "source": [
    "!pip install pyomo\n",
    "!pip install glpk"
   ]
  },
  {
   "cell_type": "markdown",
   "id": "1d0e7d6e",
   "metadata": {},
   "source": [
    "## Installation of Solvers\n",
    "\n",
    "To use Pyomo effectively, we need to install the solvers GLPK and IPOPT. These need to be installed at the system level:\n",
    "\n",
    "1. For GLPK:\n",
    "   - Windows: Download and install WinGLPK from http://winglpk.sourceforge.net/\n",
    "   - Add the path to glpsol.exe to your system PATH\n",
    "\n",
    "2. For IPOPT:\n",
    "   - Windows: Use conda to install: `conda install -c conda-forge ipopt`\n",
    "   - Or download binary from https://www.coin-or.org/download/binary/Ipopt/\n",
    "\n",
    "Please ensure these solvers are properly installed on your system before proceeding."
   ]
  },
  {
   "cell_type": "code",
   "execution_count": null,
   "id": "ea31d507",
   "metadata": {},
   "outputs": [],
   "source": [
    "from pyomo.environ import *\n",
    "import sys\n",
    "\n",
    "print(\"Pyomo version:\", pyomo.__version__)\n",
    "\n",
    "# Check for solver availability\n",
    "from pyomo.opt.base import SolverFactory\n",
    "\n",
    "solvers = ['glpk', 'ipopt']\n",
    "for solver in solvers:\n",
    "    if SolverFactory(solver).available():\n",
    "        print(f\"{solver} solver is available\")\n",
    "    else:\n",
    "        print(f\"{solver} solver is NOT available\")"
   ]
  }
 ],
 "metadata": {
  "kernelspec": {
   "display_name": "Python 3",
   "language": "python",
   "name": "python3"
  },
  "language_info": {
   "codemirror_mode": {
    "name": "ipython",
    "version": 3
   },
   "file_extension": ".py",
   "mimetype": "text/x-python",
   "name": "python",
   "nbconvert_exporter": "python",
   "pygments_lexer": "ipython3",
   "version": "3.10.11"
  }
 },
 "nbformat": 4,
 "nbformat_minor": 5
}
